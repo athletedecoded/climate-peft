{
 "cells": [
  {
   "cell_type": "code",
   "execution_count": 5,
   "metadata": {},
   "outputs": [],
   "source": [
    "import os\n",
    "import torch\n",
    "import random\n",
    "import argparse\n",
    "import warnings\n",
    "\n",
    "from peft import AutoPeftModelForCausalLM\n",
    "from trl import setup_chat_format, SFTTrainer\n",
    "from datasets import load_dataset, disable_caching\n",
    "from transformers import AutoTokenizer, AutoModelForCausalLM, BitsAndBytesConfig, TrainingArguments, pipeline\n",
    "\n",
    "from codecarbon import EmissionsTracker\n",
    "\n",
    "from utils import init_wandb, build_prompts, get_preds, get_labels, evaluate\n",
    "\n",
    "warnings.filterwarnings(\"ignore\")"
   ]
  },
  {
   "cell_type": "code",
   "execution_count": 6,
   "metadata": {},
   "outputs": [
    {
     "name": "stdout",
     "output_type": "stream",
     "text": [
      "Running evaluation on cuda:0\n",
      "Loaded 320 test samples\n"
     ]
    }
   ],
   "source": [
    "# Free CUDA memory\n",
    "torch.cuda.empty_cache()\n",
    "\n",
    "ADAPTER_ID = \"kahliahogg/climate-test\"\n",
    "BASE_ID = \"eci-io/climategpt-7b\"\n",
    "\n",
    "# GPU/CPU\n",
    "device = torch.device(\"cuda:0\" if torch.cuda.is_available() else \"cpu\")\n",
    "print(f\"Running evaluation on {device}\")\n",
    "\n",
    "# Load test dataset\n",
    "test_prompts = load_dataset(\"json\", data_files=\"data/test_prompts.json\", split=\"train\")\n",
    "print(f\"Loaded {test_prompts.num_rows} test samples\")"
   ]
  },
  {
   "cell_type": "markdown",
   "metadata": {},
   "source": [
    "### Evaluate Baseline Model"
   ]
  },
  {
   "cell_type": "code",
   "execution_count": 9,
   "metadata": {},
   "outputs": [
    {
     "name": "stderr",
     "output_type": "stream",
     "text": [
      "Special tokens have been added in the vocabulary, make sure the associated word embeddings are fine-tuned or trained.\n",
      " 48%|████▊     | 153/320 [11:25<13:21,  4.80s/it]"
     ]
    }
   ],
   "source": [
    "tokenizer = AutoTokenizer.from_pretrained(BASE_ID)\n",
    "model = AutoModelForCausalLM.from_pretrained(BASE_ID)\n",
    "\n",
    "# ChatML Config\n",
    "model, tokenizer = setup_chat_format(model, tokenizer)\n",
    "\n",
    "# Load merged model into pipeline\n",
    "pipe = pipeline(\n",
    "    task=\"text-generation\", \n",
    "    model=model, \n",
    "    tokenizer=tokenizer\n",
    ")\n",
    "\n",
    "# Test Preds\n",
    "y_preds = get_preds(test_prompts, pipe)\n",
    "y_true = get_labels(test_prompts)\n",
    "\n",
    "# Evaluate\n",
    "evaluate(y_true, y_preds, \".\", log_to_wandb=False)"
   ]
  },
  {
   "cell_type": "markdown",
   "metadata": {},
   "source": [
    "### Evaluate Finetuned Model"
   ]
  },
  {
   "cell_type": "code",
   "execution_count": null,
   "metadata": {},
   "outputs": [],
   "source": [
    "# Free CUDA memory..again\n",
    "del model\n",
    "del tokenizer\n",
    "torch.cuda.empty_cache()\n",
    "\n",
    "# Load model with PEFT adapter\n",
    "model = AutoPeftModelForCausalLM.from_pretrained(\n",
    "    ADAPTER_ID,\n",
    "    torch_dtype=torch.float16,\n",
    "    low_cpu_mem_usage=True,\n",
    "    device_map=device,\n",
    ")\n",
    "\n",
    "tokenizer = AutoTokenizer.from_pretrained(ADAPTER_ID)\n",
    "\n",
    "# Load merged model into pipeline\n",
    "pipe = pipeline(\n",
    "    task=\"text-generation\", \n",
    "    model=model, \n",
    "    tokenizer=tokenizer\n",
    ")\n",
    "\n",
    "# Test Preds\n",
    "y_preds = get_preds(test_prompts, pipe)\n",
    "y_true = get_labels(test_prompts)\n",
    "\n",
    "# Evaluate\n",
    "evaluate(y_true, y_preds, \".\", log_to_wandb=False)"
   ]
  }
 ],
 "metadata": {
  "kernelspec": {
   "display_name": "Python 3.9.16 ('.venv': venv)",
   "language": "python",
   "name": "python3"
  },
  "language_info": {
   "codemirror_mode": {
    "name": "ipython",
    "version": 3
   },
   "file_extension": ".py",
   "mimetype": "text/x-python",
   "name": "python",
   "nbconvert_exporter": "python",
   "pygments_lexer": "ipython3",
   "version": "3.9.16"
  },
  "orig_nbformat": 4,
  "vscode": {
   "interpreter": {
    "hash": "9a2a67ec8613d4fe838519aa4301bcae5e92cc04c78068c58b9a9e1e7c71b4d1"
   }
  }
 },
 "nbformat": 4,
 "nbformat_minor": 2
}
